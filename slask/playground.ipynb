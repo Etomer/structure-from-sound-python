{
 "cells": [
  {
   "cell_type": "code",
   "execution_count": 1,
   "metadata": {},
   "outputs": [],
   "source": [
    "from glob import glob\n",
    "import numpy as np\n",
    "import scipy as sp\n",
    "import json\n",
    "import os\n",
    "import matplotlib.pyplot as plt\n",
    "\n",
    "os.chdir(\"../\")\n",
    "\n",
    "from src.detectors import gcc_phat_detector\n",
    "from src.tdoa_matrix_to_tdoa_vector import mst_ransac_tdoa_matrix_to_tdoa_vector"
   ]
  },
  {
   "cell_type": "code",
   "execution_count": null,
   "metadata": {},
   "outputs": [],
   "source": []
  },
  {
   "cell_type": "code",
   "execution_count": 169,
   "metadata": {},
   "outputs": [],
   "source": [
    "input_folder = \"./data/tdoa_20201016/data/music_0012/\"\n",
    "gcc_phat_detector(input_folder, window_length=30000)\n",
    "detections = np.load(input_folder + \"detections.npy\")\n",
    "\n",
    "n_detection_windows = detections.shape[0]\n",
    "n_mics = detections.shape[1]\n"
   ]
  },
  {
   "cell_type": "code",
   "execution_count": 170,
   "metadata": {},
   "outputs": [
    {
     "data": {
      "text/plain": [
       "(-3.0, 3.0)"
      ]
     },
     "execution_count": 170,
     "metadata": {},
     "output_type": "execute_result"
    },
    {
     "data": {
      "image/png": "[encoded data removed]",
      "text/plain": [
       "<Figure size 432x288 with 1 Axes>"
      ]
     },
     "metadata": {
      "needs_background": "light"
     },
     "output_type": "display_data"
    }
   ],
   "source": [
    "# Example plot\n",
    "plt.plot(detections[:, 4, 6], '.')\n",
    "plt.ylim([-3, 3])\n"
   ]
  },
  {
   "cell_type": "code",
   "execution_count": null,
   "metadata": {},
   "outputs": [],
   "source": []
  },
  {
   "cell_type": "code",
   "execution_count": 171,
   "metadata": {},
   "outputs": [],
   "source": [
    "\n",
    "\n",
    "tdoav = np.zeros((n_detection_windows, n_mics))\n",
    "scores = np.zeros(n_detection_windows)\n",
    "for i in range(n_detection_windows):\n",
    "\n",
    "    tdoam = detections[i, :, :]\n",
    "    res = mst_ransac_tdoa_matrix_to_tdoa_vector(tdoam)\n",
    "    tdoav[i] = res[0]\n",
    "    scores[i] = res[1]\n"
   ]
  },
  {
   "cell_type": "code",
   "execution_count": 172,
   "metadata": {},
   "outputs": [
    {
     "data": {
      "text/plain": [
       "(-5.0, 5.0)"
      ]
     },
     "execution_count": 172,
     "metadata": {},
     "output_type": "execute_result"
    },
    {
     "data": {
      "image/png": "[encoded data removed]",
      "text/plain": [
       "<Figure size 432x288 with 1 Axes>"
      ]
     },
     "metadata": {
      "needs_background": "light"
     },
     "output_type": "display_data"
    }
   ],
   "source": [
    "mic1 = 1\n",
    "mic2 = 7\n",
    "cutoff = n_mics*(n_mics-1)/2\n",
    "x_index = np.arange(n_detection_windows)\n",
    "\n",
    "# plt.plot(x_index[scores <= cutoff],tdoav[scores <= cutoff, mic1] - tdoav[scores <= cutoff, mic2], 'r.')\n",
    "plt.plot(x_index[scores > cutoff], tdoav[scores > cutoff,\n",
    "         mic1] - tdoav[scores > cutoff, mic2], 'g.')\n",
    "plt.ylim([-5, 5])\n"
   ]
  },
  {
   "cell_type": "code",
   "execution_count": 629,
   "metadata": {},
   "outputs": [],
   "source": []
  },
  {
   "cell_type": "code",
   "execution_count": null,
   "metadata": {},
   "outputs": [],
   "source": []
  }
 ],
 "metadata": {
  "kernelspec": {
   "display_name": "base",
   "language": "python",
   "name": "python3"
  },
  "language_info": {
   "codemirror_mode": {
    "name": "ipython",
    "version": 3
   },
   "file_extension": ".py",
   "mimetype": "text/x-python",
   "name": "python",
   "nbconvert_exporter": "python",
   "pygments_lexer": "ipython3",
   "version": "3.9.16"
  },
  "orig_nbformat": 4
 },
 "nbformat": 4,
 "nbformat_minor": 2
}
