{
 "cells": [
  {
   "cell_type": "code",
   "execution_count": 2,
   "metadata": {},
   "outputs": [],
   "source": [
    "from glob import glob\n",
    "import numpy as np\n",
    "import scipy as sp\n",
    "import json\n",
    "import os\n",
    "import matplotlib.pyplot as plt\n",
    "\n",
    "os.chdir(\"../\")\n"
   ]
  },
  {
   "cell_type": "code",
   "execution_count": 3,
   "metadata": {},
   "outputs": [
    {
     "data": {
      "text/plain": [
       "(96000,\n",
       " array([[-1946624., -2079744., -2043904., ...,        0.,        0.,\n",
       "                0.],\n",
       "        [-4788736., -5047552., -4610304., ...,        0.,        0.,\n",
       "                0.],\n",
       "        [  250112.,   139520.,  -232448., ...,        0.,        0.,\n",
       "                0.],\n",
       "        ...,\n",
       "        [ 6407168.,  6902016.,  6766080., ...,        0.,        0.,\n",
       "                0.],\n",
       "        [-8608000., -8731904., -8423680., ...,        0.,        0.,\n",
       "                0.],\n",
       "        [-3149056., -2709248., -2435584., ...,        0.,        0.,\n",
       "                0.]]))"
      ]
     },
     "execution_count": 3,
     "metadata": {},
     "output_type": "execute_result"
    }
   ],
   "source": [
    "input_folder = \"./data/tdoa_20201016/data/music_0014/\"\n",
    "\n",
    "\n",
    "def _read_input_folder(input_folder):\n",
    "\n",
    "    n = len(glob(input_folder + \"*.wav\"))\n",
    "    # info = json.load(open(input_folder + \"/info.json\",'r'))\n",
    "    # n = info[\"number_of_mics\"]\n",
    "\n",
    "    sounds = []\n",
    "    for i in range(n):\n",
    "        fs, s = sp.io.wavfile.read(input_folder + \"/Track \" + str(i+1)+\".wav\")\n",
    "        sounds.append(s)\n",
    "\n",
    "    return_obj = np.zeros((n, len(sounds[0])))\n",
    "    for i in range(n):\n",
    "        return_obj[i] = sounds[i]\n",
    "\n",
    "    return (fs, return_obj)\n",
    "\n",
    "\n",
    "_read_input_folder(input_folder)\n"
   ]
  },
  {
   "cell_type": "code",
   "execution_count": 11,
   "metadata": {},
   "outputs": [],
   "source": [
    "from glob import glob\n",
    "import numpy as np\n",
    "import scipy as sp\n",
    "import json\n",
    "\n",
    "# constants\n",
    "\n",
    "SPEED_OF_SOUND = 343\n",
    "\n",
    "# Helper functions ----------------------------\n",
    "\n",
    "\n",
    "def _read_input_folder(input_folder):\n",
    "\n",
    "    n = len(glob(input_folder + \"*.wav\"))\n",
    "    # info = json.load(open(input_folder + \"/info.json\",'r'))\n",
    "    # n = info[\"number_of_mics\"]\n",
    "\n",
    "    sounds = []\n",
    "    for i in range(n):\n",
    "        fs, s = sp.io.wavfile.read(input_folder + \"/Track \" + str(i+1)+\".wav\")\n",
    "        sounds.append(s)\n",
    "\n",
    "    return_obj = np.zeros((n, len(sounds[0])))\n",
    "    for i in range(n):\n",
    "        return_obj[i] = sounds[i]\n",
    "\n",
    "    return (fs, return_obj)\n",
    "\n",
    "\n",
    "def _divide_into_tdoa_chunks(sounds, fs, chunk_length):\n",
    "    \"\"\"\n",
    "    Divides sound into chunks of a given length, and matches with ground truth for tdoa\n",
    "\n",
    "    Input : \n",
    "        sounds, numpy_array of size=(nmics, sound_length)\n",
    "        fs, int; sampling frequency\n",
    "\n",
    "    Output : \n",
    "        list((\n",
    "            sounds, numpy_array of size=(nmics, chunk_length)\n",
    "            time, float\n",
    "                time since start of the original recording in seconds\n",
    "            ))\n",
    "    \"\"\"\n",
    "\n",
    "    problems = []\n",
    "    starts = np.arange(0, sounds.shape[-1], chunk_length)[:-1]\n",
    "\n",
    "    for start in starts:\n",
    "\n",
    "        sound = sounds[:, start:(start+chunk_length)]\n",
    "        time = (start + chunk_length/2)/fs\n",
    "        problems.append((sound, time))\n",
    "    return problems\n",
    "\n",
    "\n",
    "def _gcc_phat(problem, highest_fft_component_to_throw=300):\n",
    "    c = sp.fft.fft(problem[0])\n",
    "    nmics = problem[0].shape[0]\n",
    "\n",
    "    result = np.empty((nmics, nmics))\n",
    "    for mic1 in range(problem[0].shape[0]):\n",
    "        for mic2 in range(mic1+1, problem[0].shape[0]):\n",
    "            temp = c[mic1, :]*np.conj(c[mic2, :])\n",
    "            temp /= np.abs(temp) + 1e-10\n",
    "            temp[highest_fft_component_to_throw:-\n",
    "                 highest_fft_component_to_throw] = 0\n",
    "            res = sp.fft.ifft(temp)\n",
    "\n",
    "            bi = np.argmax(res)\n",
    "            result[mic1, mic2] = bi if bi < problem[0].shape[1] / \\\n",
    "                2 else bi - problem[0].shape[1]\n",
    "        result[mic2, mic1] = -result[mic1, mic2]\n",
    "\n",
    "    return result\n",
    "\n",
    "\n",
    "# Different detectors ----------------------------\n",
    "def gcc_phat_detector(input_folder, output_folder=None, window_length=10000, speed_of_movement=0):\n",
    "    \"\"\"\n",
    "    GCC-phat algorithm\n",
    "    config : \n",
    "      window_length : #samples to use as window length\n",
    "      speed_of_movement : max_speed the speaker is moving at (approximately) in m/s, (set this value to non-zero to start throwing out high frequency components)\n",
    "    \"\"\"\n",
    "    if output_folder == None:\n",
    "        output_folder = input_folder\n",
    "\n",
    "    fs, sounds = _read_input_folder(input_folder)\n",
    "    problems = _divide_into_tdoa_chunks(sounds, fs, chunk_length=window_length)\n",
    "\n",
    "    highest_fft_component_to_throw = int(\n",
    "        SPEED_OF_SOUND/speed_of_movement) if speed_of_movement != 0 else 0\n",
    "\n",
    "    result = np.zeros((len(problems), sounds.shape[0], sounds.shape[0]))\n",
    "\n",
    "    for i, problem in enumerate(problems):\n",
    "        result[i, :, :] = _gcc_phat(problem, highest_fft_component_to_throw)\n",
    "    times = [problem[1] for problem in problems]\n",
    "\n",
    "    np.save(output_folder + \"detections.npy\", result)\n",
    "    np.save(output_folder + \"detection_times.npy\", times)\n",
    "\n",
    "\n",
    "gcc_phat_detector(\"./data/tdoa_20201016/data/music_0014/\", speed_of_movement=1)\n"
   ]
  },
  {
   "cell_type": "code",
   "execution_count": 20,
   "metadata": {},
   "outputs": [
    {
     "data": {
      "text/plain": [
       "(-1500.0, 1500.0)"
      ]
     },
     "execution_count": 20,
     "metadata": {},
     "output_type": "execute_result"
    },
    {
     "data": {
      "image/png": "[encoded data removed]",
      "text/plain": [
       "<Figure size 432x288 with 1 Axes>"
      ]
     },
     "metadata": {
      "needs_background": "light"
     },
     "output_type": "display_data"
    }
   ],
   "source": [
    "\n",
    "plt.plot(np.load(\"./data/tdoa_20201016/data/music_0014/\" +\n",
    "         \"detections.npy\")[:, 1, 11], '.')\n",
    "plt.ylim([-1500, 1500])\n"
   ]
  }
 ],
 "metadata": {
  "kernelspec": {
   "display_name": "base",
   "language": "python",
   "name": "python3"
  },
  "language_info": {
   "codemirror_mode": {
    "name": "ipython",
    "version": 3
   },
   "file_extension": ".py",
   "mimetype": "text/x-python",
   "name": "python",
   "nbconvert_exporter": "python",
   "pygments_lexer": "ipython3",
   "version": "3.9.16"
  },
  "orig_nbformat": 4
 },
 "nbformat": 4,
 "nbformat_minor": 2
}
